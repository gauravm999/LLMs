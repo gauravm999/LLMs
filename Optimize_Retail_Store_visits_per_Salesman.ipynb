{
  "nbformat": 4,
  "nbformat_minor": 0,
  "metadata": {
    "colab": {
      "provenance": [],
      "authorship_tag": "ABX9TyMvP/arOrxknOL0fFR8eQB8",
      "include_colab_link": true
    },
    "kernelspec": {
      "name": "python3",
      "display_name": "Python 3"
    },
    "language_info": {
      "name": "python"
    }
  },
  "cells": [
    {
      "cell_type": "markdown",
      "metadata": {
        "id": "view-in-github",
        "colab_type": "text"
      },
      "source": [
        "<a href=\"https://colab.research.google.com/github/gauravm999/LLMs/blob/main/Optimize_Retail_Store_visits_per_Salesman.ipynb\" target=\"_parent\"><img src=\"https://colab.research.google.com/assets/colab-badge.svg\" alt=\"Open In Colab\"/></a>"
      ]
    },
    {
      "cell_type": "markdown",
      "source": [
        "#Optimize Number of Store visits by Salesman\n",
        " The goal is to identify  the number of visits per store (by a salesman) that will maximize sales. This is done by predicting how sales vary when the visit frequency changes and selecting the frequency that results in the highest sales.\n",
        " https://chatgpt.com/c/66e5d1e2-8e4c-800a-9638-bdb72d9a8e92"
      ],
      "metadata": {
        "id": "mkTh_aQU6oDg"
      }
    },
    {
      "cell_type": "code",
      "execution_count": null,
      "metadata": {
        "colab": {
          "base_uri": "https://localhost:8080/"
        },
        "id": "vQ6XzQqk3ubC",
        "outputId": "b567fef1-747c-493e-d39f-ce16f86e9b28"
      },
      "outputs": [
        {
          "output_type": "stream",
          "name": "stdout",
          "text": [
            "   Store_ID  Visit_Frequency Store_Size  Stock_Level  Promotion_Active  Sales\n",
            "0         1                1      small           50                 0    400\n",
            "1         1                2      small          100                 1    600\n",
            "2         1                3      small          150                 1    800\n",
            "3         2                1     medium           80                 0    500\n",
            "4         2                2     medium          160                 0    700\n",
            "5         2                3     medium          240                 1    900\n",
            "6         3                1      large          100                 0    600\n",
            "7         3                2      large          200                 0    800\n",
            "8         3                3      large          300                 1   1000\n"
          ]
        }
      ],
      "source": [
        "import pandas as pd\n",
        "import numpy as np\n",
        "import xgboost as xgb\n",
        "\n",
        "# Sample dataset creation\n",
        "data = {\n",
        "    'Store_ID': [1, 1, 1, 2, 2, 2, 3, 3, 3],\n",
        "    'Visit_Frequency': [1, 2, 3, 1, 2, 3, 1, 2, 3],  # Visits per week\n",
        "    'Store_Size': ['small', 'small', 'small', 'medium', 'medium', 'medium', 'large', 'large', 'large'],  # Categorical\n",
        "    'Stock_Level': [50, 100, 150, 80, 160, 240, 100, 200, 300],  # Inventory level\n",
        "    'Promotion_Active': [0, 1, 1, 0, 0, 1, 0, 0, 1],  # 0 = No, 1 = Yes\n",
        "    'Sales': [400, 600, 800, 500, 700, 900, 600, 800, 1000]  # Target variable\n",
        "}\n",
        "\n",
        "df = pd.DataFrame(data)\n",
        "print(df)"
      ]
    },
    {
      "cell_type": "code",
      "source": [
        "# One-hot encode Store_Size and Promotion_Active\n",
        "df_encoded = pd.get_dummies(df, columns=['Store_Size', 'Promotion_Active'], drop_first=True)\n",
        "print(df_encoded)"
      ],
      "metadata": {
        "colab": {
          "base_uri": "https://localhost:8080/"
        },
        "id": "MlAGJVcF5gNw",
        "outputId": "76cb7867-6a0c-4947-a69d-20aa797d1833"
      },
      "execution_count": null,
      "outputs": [
        {
          "output_type": "stream",
          "name": "stdout",
          "text": [
            "   Store_ID  Visit_Frequency  Stock_Level  Sales  Store_Size_medium  \\\n",
            "0         1                1           50    400              False   \n",
            "1         1                2          100    600              False   \n",
            "2         1                3          150    800              False   \n",
            "3         2                1           80    500               True   \n",
            "4         2                2          160    700               True   \n",
            "5         2                3          240    900               True   \n",
            "6         3                1          100    600              False   \n",
            "7         3                2          200    800              False   \n",
            "8         3                3          300   1000              False   \n",
            "\n",
            "   Store_Size_small  Promotion_Active_1  \n",
            "0              True               False  \n",
            "1              True                True  \n",
            "2              True                True  \n",
            "3             False               False  \n",
            "4             False               False  \n",
            "5             False                True  \n",
            "6             False               False  \n",
            "7             False               False  \n",
            "8             False                True  \n"
          ]
        }
      ]
    },
    {
      "cell_type": "code",
      "source": [],
      "metadata": {
        "id": "-LUS7X315jPo"
      },
      "execution_count": null,
      "outputs": []
    },
    {
      "cell_type": "code",
      "source": [
        "from sklearn.model_selection import train_test_split\n",
        "from sklearn.preprocessing import OneHotEncoder\n",
        "import xgboost as xgb\n",
        "\n",
        "# One-hot encode Store_Size and Promotion_Active\n",
        "df_encoded = pd.get_dummies(df, columns=['Store_Size', 'Promotion_Active'], drop_first=True)\n",
        "\n",
        "# Features and Target\n",
        "X = df_encoded.drop(['Sales'], axis=1)\n",
        "y = df_encoded['Sales']\n",
        "\n",
        "# Train-test split\n",
        "X_train, X_test, y_train, y_test = train_test_split(X, y, test_size=0.2, random_state=42)\n",
        "\n",
        "# Convert to DMatrix for XGBoost\n",
        "train_data = xgb.DMatrix(X_train, label=y_train)\n",
        "test_data = xgb.DMatrix(X_test, label=y_test)"
      ],
      "metadata": {
        "id": "Axh1WgEl3wgL"
      },
      "execution_count": null,
      "outputs": []
    },
    {
      "cell_type": "code",
      "source": [
        "# Features and Target\n",
        "X = df_encoded.drop(['Sales'], axis=1)\n",
        "y = df_encoded['Sales']\n",
        "\n",
        "# Train-test split\n",
        "from sklearn.model_selection import train_test_split\n",
        "X_train, X_test, y_train, y_test = train_test_split(X, y, test_size=0.2, random_state=42)\n",
        "\n",
        "# Convert to DMatrix for XGBoost\n",
        "train_data = xgb.DMatrix(X_train, label=y_train)\n",
        "test_data = xgb.DMatrix(X_test, label=y_test)"
      ],
      "metadata": {
        "id": "dKFUvCRp313v"
      },
      "execution_count": null,
      "outputs": []
    },
    {
      "cell_type": "code",
      "source": [
        "# Define parameters for XGBoost\n",
        "params = {\n",
        "    'objective': 'reg:squarederror',  # Regression\n",
        "    'max_depth': 3,\n",
        "    'learning_rate': 0.1,\n",
        "    'n_estimators': 100\n",
        "}\n",
        "\n",
        "# Train the XGBoost model\n",
        "model = xgb.train(params, train_data, num_boost_round=100)"
      ],
      "metadata": {
        "colab": {
          "base_uri": "https://localhost:8080/"
        },
        "id": "p3MKUnNI4AiY",
        "outputId": "0d40d1cf-1c3f-4b8d-9ccc-614ab733d09d"
      },
      "execution_count": null,
      "outputs": [
        {
          "output_type": "stream",
          "name": "stderr",
          "text": [
            "/usr/local/lib/python3.10/dist-packages/xgboost/core.py:158: UserWarning: [18:59:02] WARNING: /workspace/src/learner.cc:740: \n",
            "Parameters: { \"n_estimators\" } are not used.\n",
            "\n",
            "  warnings.warn(smsg, UserWarning)\n"
          ]
        }
      ]
    },
    {
      "cell_type": "code",
      "source": [
        "# Function to find optimal visit frequency for a store\n",
        "def find_optimal_visits(store_id, model, df_encoded):\n",
        "    store_data = df_encoded[df_encoded['Store_ID'] == store_id].copy()\n",
        "\n",
        "    visit_freq_range = [1, 2, 3, 4, 5]  # Vary the visit frequency\n",
        "    sales_predictions = []\n",
        "\n",
        "    for freq in visit_freq_range:\n",
        "        # Modify visit frequency for the store\n",
        "        store_data['Visit_Frequency'] = freq\n",
        "\n",
        "        # Predict sales using the trained model\n",
        "        dmatrix_store = xgb.DMatrix(store_data.drop(['Sales'], axis=1))\n",
        "        predicted_sales = model.predict(dmatrix_store)\n",
        "        sales_predictions.append(predicted_sales.mean())\n",
        "\n",
        "    # Find the optimal number of visits that maximizes predicted sales\n",
        "    optimal_visits = visit_freq_range[sales_predictions.index(max(sales_predictions))]\n",
        "\n",
        "    return optimal_visits, sales_predictions"
      ],
      "metadata": {
        "id": "da2V00ww4t7f"
      },
      "execution_count": null,
      "outputs": []
    },
    {
      "cell_type": "code",
      "source": [
        "# Find optimal number of visits for Store 1\n",
        "optimal_visits, sales_preds = find_optimal_visits(1, model, df_encoded)\n",
        "print(f\"Optimal visits for Store 1: {optimal_visits}\")\n",
        "print(f\"Predicted sales for each visit frequency: {sales_preds}\")"
      ],
      "metadata": {
        "colab": {
          "base_uri": "https://localhost:8080/"
        },
        "id": "EWMu9HV94Vu0",
        "outputId": "44b84466-fc07-47ac-8bf4-cee793241da1"
      },
      "execution_count": null,
      "outputs": [
        {
          "output_type": "stream",
          "name": "stdout",
          "text": [
            "Optimal visits for Store 1: 3\n",
            "Predicted sales for each visit frequency: [420.084, 701.7067, 789.5892, 789.5892, 789.5892]\n"
          ]
        }
      ]
    },
    {
      "cell_type": "code",
      "source": [
        "# Find optimal number of visits for all stores\n",
        "unique_stores = df_encoded['Store_ID'].unique()\n",
        "\n",
        "optimal_visits_results = {}\n",
        "\n",
        "for store in unique_stores:\n",
        "    optimal_visits, sales_preds = find_optimal_visits(store, model, df_encoded)\n",
        "    optimal_visits_results[store] = {\n",
        "        'Optimal Visits': optimal_visits,\n",
        "        'Predicted Sales': sales_preds\n",
        "    }\n",
        "\n",
        "# Print results for all stores\n",
        "for store, results in optimal_visits_results.items():\n",
        "    print(f\"Optimal visits for Store {store}: {results['Optimal Visits']}\")\n",
        "    print(f\"Predicted sales for Store {store} for each visit frequency: {results['Predicted Sales']}\")\n",
        "    print(\"-\" * 50)"
      ],
      "metadata": {
        "colab": {
          "base_uri": "https://localhost:8080/"
        },
        "id": "69mXmymc556q",
        "outputId": "ad40158e-06fe-4c12-8812-7c3c4449b8fb"
      },
      "execution_count": null,
      "outputs": [
        {
          "output_type": "stream",
          "name": "stdout",
          "text": [
            "Optimal visits for Store 1: 3\n",
            "Predicted sales for Store 1 for each visit frequency: [420.084, 701.7067, 789.5892, 789.5892, 789.5892]\n",
            "--------------------------------------------------\n",
            "Optimal visits for Store 2: 3\n",
            "Predicted sales for Store 2 for each visit frequency: [505.673, 718.9815, 853.867, 853.867, 853.867]\n",
            "--------------------------------------------------\n",
            "Optimal visits for Store 3: 3\n",
            "Predicted sales for Store 3 for each visit frequency: [609.5933, 816.7205, 941.98956, 941.98956, 941.98956]\n",
            "--------------------------------------------------\n"
          ]
        }
      ]
    }
  ]
}