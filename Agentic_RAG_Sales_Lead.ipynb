{
  "nbformat": 4,
  "nbformat_minor": 0,
  "metadata": {
    "colab": {
      "provenance": [],
      "authorship_tag": "ABX9TyP/NxFFt/0Kv50nwVn9YLU6",
      "include_colab_link": true
    },
    "kernelspec": {
      "name": "python3",
      "display_name": "Python 3"
    },
    "language_info": {
      "name": "python"
    }
  },
  "cells": [
    {
      "cell_type": "markdown",
      "metadata": {
        "id": "view-in-github",
        "colab_type": "text"
      },
      "source": [
        "<a href=\"https://colab.research.google.com/github/gauravm999/LLMs/blob/main/Agentic_RAG_Sales_Lead.ipynb\" target=\"_parent\"><img src=\"https://colab.research.google.com/assets/colab-badge.svg\" alt=\"Open In Colab\"/></a>"
      ]
    },
    {
      "cell_type": "markdown",
      "source": [
        "# Agentic RAG to classiy Sales Oppotunity basis Transcript data"
      ],
      "metadata": {
        "id": "QcbVObFyrKWF"
      }
    },
    {
      "cell_type": "markdown",
      "source": [
        "#Sample Data"
      ],
      "metadata": {
        "id": "xor1iUdA5PA2"
      }
    },
    {
      "cell_type": "code",
      "execution_count": null,
      "metadata": {
        "colab": {
          "base_uri": "https://localhost:8080/"
        },
        "id": "-a-AY7_r5Czt",
        "outputId": "50b99095-fc5f-4c68-f48b-804b1e8f6530"
      },
      "outputs": [
        {
          "output_type": "execute_result",
          "data": {
            "text/plain": [
              "{'conversation': [{'speaker': 'Principal Data Scientist',\n",
              "   'text': 'Hi there! I understand your team is focusing on improving route-to-market efficiency. Could you tell me more about the challenges you’re facing?'},\n",
              "  {'speaker': 'CPG Business Lead',\n",
              "   'text': \"Yes, we’ve been struggling with optimizing our store visits. Our sales team doesn't always know which stores need priority, which is leading to lost opportunities.\"},\n",
              "  {'speaker': 'Principal Data Scientist',\n",
              "   'text': 'That’s a common issue. We’ve seen AI models improve store visit efficiency by as much as 20%. Is that something your team has considered?'},\n",
              "  {'speaker': 'CPG Business Lead',\n",
              "   'text': \"Yes, we've been thinking about AI. We just need to allocate the budget for next quarter, and we're exploring solutions.\"},\n",
              "  {'speaker': 'Principal Data Scientist',\n",
              "   'text': 'Great to hear. We have a use case in the CPG industry that helped one client improve their ROI by predicting which stores to prioritize.'},\n",
              "  {'speaker': 'CPG Business Lead',\n",
              "   'text': 'That sounds interesting. We’d definitely be open to seeing a proposal and a case study.'}]}"
            ]
          },
          "metadata": {},
          "execution_count": 1
        }
      ],
      "source": [
        "{\n",
        "  \"conversation\": [\n",
        "    {\n",
        "      \"speaker\": \"Principal Data Scientist\",\n",
        "      \"text\": \"Hi there! I understand your team is focusing on improving route-to-market efficiency. Could you tell me more about the challenges you’re facing?\"\n",
        "    },\n",
        "    {\n",
        "      \"speaker\": \"CPG Business Lead\",\n",
        "      \"text\": \"Yes, we’ve been struggling with optimizing our store visits. Our sales team doesn't always know which stores need priority, which is leading to lost opportunities.\"\n",
        "    },\n",
        "    {\n",
        "      \"speaker\": \"Principal Data Scientist\",\n",
        "      \"text\": \"That’s a common issue. We’ve seen AI models improve store visit efficiency by as much as 20%. Is that something your team has considered?\"\n",
        "    },\n",
        "    {\n",
        "      \"speaker\": \"CPG Business Lead\",\n",
        "      \"text\": \"Yes, we've been thinking about AI. We just need to allocate the budget for next quarter, and we're exploring solutions.\"\n",
        "    },\n",
        "    {\n",
        "      \"speaker\": \"Principal Data Scientist\",\n",
        "      \"text\": \"Great to hear. We have a use case in the CPG industry that helped one client improve their ROI by predicting which stores to prioritize.\"\n",
        "    },\n",
        "    {\n",
        "      \"speaker\": \"CPG Business Lead\",\n",
        "      \"text\": \"That sounds interesting. We’d definitely be open to seeing a proposal and a case study.\"\n",
        "    }\n",
        "  ]\n",
        "}\n"
      ]
    },
    {
      "cell_type": "markdown",
      "source": [
        "#AI to Analyze the Conversation and Identify Sales Opportunities"
      ],
      "metadata": {
        "id": "2izG4XyW5Tpk"
      }
    },
    {
      "cell_type": "code",
      "source": [
        "import json\n",
        "\n",
        "# Load the sample conversation data\n",
        "conversation_data = json.loads('''\n",
        "{\n",
        "  \"conversation\": [\n",
        "    {\n",
        "      \"speaker\": \"Principal Data Scientist\",\n",
        "      \"text\": \"Hi there! I understand your team is focusing on improving route-to-market efficiency. Could you tell me more about the challenges you’re facing?\"\n",
        "    },\n",
        "    {\n",
        "      \"speaker\": \"CPG Business Lead\",\n",
        "      \"text\": \"Yes, we’ve been struggling with optimizing our store visits. Our sales team doesn't always know which stores need priority, which is leading to lost opportunities.\"\n",
        "    },\n",
        "    {\n",
        "      \"speaker\": \"Principal Data Scientist\",\n",
        "      \"text\": \"That’s a common issue. We’ve seen AI models improve store visit efficiency by as much as 20%. Is that something your team has considered?\"\n",
        "    },\n",
        "    {\n",
        "      \"speaker\": \"CPG Business Lead\",\n",
        "      \"text\": \"Yes, we've been thinking about AI. We just need to allocate the budget for next quarter, and we're exploring solutions.\"\n",
        "    },\n",
        "    {\n",
        "      \"speaker\": \"Principal Data Scientist\",\n",
        "      \"text\": \"Great to hear. We have a use case in the CPG industry that helped one client improve their ROI by predicting which stores to prioritize.\"\n",
        "    },\n",
        "    {\n",
        "      \"speaker\": \"CPG Business Lead\",\n",
        "      \"text\": \"That sounds interesting. We’d definitely be open to seeing a proposal and a case study.\"\n",
        "    }\n",
        "  ]\n",
        "}\n",
        "''')\n",
        "\n",
        "# Predefined keywords for sales lead indicators\n",
        "lead_indicators = {\n",
        "    \"challenges\": [\"struggling\", \"issues\", \"challenges\", \"lost opportunities\", \"inefficiency\"],\n",
        "    \"budget\": [\"budget\", \"allocate\", \"approval\", \"funding\"],\n",
        "    \"interest\": [\"considered\", \"thinking about\", \"exploring\", \"open to\"],\n",
        "    \"request\": [\"proposal\", \"case study\", \"demo\", \"follow-up\"]\n",
        "}\n",
        "\n",
        "# Function to check for lead indicators in conversation\n",
        "def identify_sales_leads(conversation, lead_indicators):\n",
        "    leads = []\n",
        "\n",
        "    for message in conversation:\n",
        "        text = message[\"text\"].lower()\n",
        "\n",
        "        # Look for sales opportunities based on predefined indicators\n",
        "        for lead_type, keywords in lead_indicators.items():\n",
        "            for keyword in keywords:\n",
        "                if keyword in text:\n",
        "                    lead = {\n",
        "                        \"speaker\": message[\"speaker\"],\n",
        "                        \"text\": message[\"text\"],\n",
        "                        \"lead_type\": lead_type\n",
        "                    }\n",
        "                    leads.append(lead)\n",
        "\n",
        "    return leads\n",
        "\n",
        "# Process the conversation\n",
        "leads = identify_sales_leads(conversation_data[\"conversation\"], lead_indicators)\n",
        "\n",
        "# Output the identified leads\n",
        "for lead in leads:\n",
        "    print(f\"Lead Type: {lead['lead_type'].capitalize()}\")\n",
        "    print(f\"Speaker: {lead['speaker']}\")\n",
        "    print(f\"Text: {lead['text']}\\n\")"
      ],
      "metadata": {
        "colab": {
          "base_uri": "https://localhost:8080/"
        },
        "id": "_-rHyZ6t5Fzm",
        "outputId": "473f3b11-f34f-4d60-fdcc-11f8342aae34"
      },
      "execution_count": null,
      "outputs": [
        {
          "output_type": "stream",
          "name": "stdout",
          "text": [
            "Lead Type: Challenges\n",
            "Speaker: Principal Data Scientist\n",
            "Text: Hi there! I understand your team is focusing on improving route-to-market efficiency. Could you tell me more about the challenges you’re facing?\n",
            "\n",
            "Lead Type: Challenges\n",
            "Speaker: CPG Business Lead\n",
            "Text: Yes, we’ve been struggling with optimizing our store visits. Our sales team doesn't always know which stores need priority, which is leading to lost opportunities.\n",
            "\n",
            "Lead Type: Challenges\n",
            "Speaker: CPG Business Lead\n",
            "Text: Yes, we’ve been struggling with optimizing our store visits. Our sales team doesn't always know which stores need priority, which is leading to lost opportunities.\n",
            "\n",
            "Lead Type: Interest\n",
            "Speaker: Principal Data Scientist\n",
            "Text: That’s a common issue. We’ve seen AI models improve store visit efficiency by as much as 20%. Is that something your team has considered?\n",
            "\n",
            "Lead Type: Budget\n",
            "Speaker: CPG Business Lead\n",
            "Text: Yes, we've been thinking about AI. We just need to allocate the budget for next quarter, and we're exploring solutions.\n",
            "\n",
            "Lead Type: Budget\n",
            "Speaker: CPG Business Lead\n",
            "Text: Yes, we've been thinking about AI. We just need to allocate the budget for next quarter, and we're exploring solutions.\n",
            "\n",
            "Lead Type: Interest\n",
            "Speaker: CPG Business Lead\n",
            "Text: Yes, we've been thinking about AI. We just need to allocate the budget for next quarter, and we're exploring solutions.\n",
            "\n",
            "Lead Type: Interest\n",
            "Speaker: CPG Business Lead\n",
            "Text: Yes, we've been thinking about AI. We just need to allocate the budget for next quarter, and we're exploring solutions.\n",
            "\n",
            "Lead Type: Interest\n",
            "Speaker: CPG Business Lead\n",
            "Text: That sounds interesting. We’d definitely be open to seeing a proposal and a case study.\n",
            "\n",
            "Lead Type: Request\n",
            "Speaker: CPG Business Lead\n",
            "Text: That sounds interesting. We’d definitely be open to seeing a proposal and a case study.\n",
            "\n",
            "Lead Type: Request\n",
            "Speaker: CPG Business Lead\n",
            "Text: That sounds interesting. We’d definitely be open to seeing a proposal and a case study.\n",
            "\n"
          ]
        }
      ]
    },
    {
      "cell_type": "markdown",
      "source": [
        "Output: When the code runs, it will identify and flag sales leads:"
      ],
      "metadata": {
        "id": "luNGRATV5fQd"
      }
    },
    {
      "cell_type": "markdown",
      "source": [
        "# Agentic RAG"
      ],
      "metadata": {
        "id": "hti_jDOv55MP"
      }
    },
    {
      "cell_type": "markdown",
      "source": [
        "Step 1: Simulate External Knowledge Base:\n",
        "- We will simulate an external knowledge base with case studies, AI solutions, and technical proposals."
      ],
      "metadata": {
        "id": "Jj2R5hyi6DJe"
      }
    },
    {
      "cell_type": "code",
      "source": [
        "# Simulated Knowledge Base (for retrieval)\n",
        "knowledge_base = {\n",
        "    \"route-to-market\": \"Case Study: AI Optimization of Route-to-Market Strategies increased ROI by 20%.\",\n",
        "    \"store visits\": \"Case Study: Predictive models for optimizing store visits reduced inefficiencies by 15%.\",\n",
        "    \"budget allocation\": \"Technical Proposal: How AI can maximize value with a lean budget.\",\n",
        "    \"forecasting\": \"Case Study: AI-enhanced demand forecasting improves inventory management.\"\n",
        "}"
      ],
      "metadata": {
        "id": "x2JOGajJ5-DM"
      },
      "execution_count": null,
      "outputs": []
    },
    {
      "cell_type": "markdown",
      "source": [
        "Step 2: Retrieval Function:\n",
        "- This function retrieves relevant documents from the knowledge base based on conversation context."
      ],
      "metadata": {
        "id": "q8OF6g_b6LVu"
      }
    },
    {
      "cell_type": "code",
      "source": [
        "# Function to retrieve relevant documents from knowledge base\n",
        "def retrieve_documents(conversation, knowledge_base):\n",
        "    retrieved_docs = {}\n",
        "\n",
        "    for message in conversation:\n",
        "        text = message[\"text\"].lower()\n",
        "\n",
        "        for key in knowledge_base:\n",
        "            if key in text:\n",
        "                retrieved_docs[key] = knowledge_base[key]\n",
        "\n",
        "    return retrieved_docs"
      ],
      "metadata": {
        "id": "cmnn5i-v5_cX"
      },
      "execution_count": null,
      "outputs": []
    },
    {
      "cell_type": "markdown",
      "source": [
        "Step 3: Generate Response using Retrieval + Generation\n",
        "- This function integrates the retrieval step and generates responses or actions based on the retrieved documents."
      ],
      "metadata": {
        "id": "OvIMXJZg6UeN"
      }
    },
    {
      "cell_type": "code",
      "source": [
        "import random\n",
        "\n",
        "# Function to generate responses based on retrieved documents\n",
        "def generate_followup(retrieved_docs):\n",
        "    generated_responses = []\n",
        "\n",
        "    for key, document in retrieved_docs.items():\n",
        "        # Generate a dynamic response based on retrieved content\n",
        "        followup = f\"Based on your challenge with {key}, I recommend reviewing this: {document}. We could use a similar approach for your case.\"\n",
        "        generated_responses.append(followup)\n",
        "\n",
        "    if not generated_responses:\n",
        "        generated_responses.append(\"Thank you for sharing the challenges. I'll follow up with some tailored recommendations shortly.\")\n",
        "\n",
        "    return random.choice(generated_responses)  # Randomly pick one response for diversity"
      ],
      "metadata": {
        "id": "vp05g_Ur6BhN"
      },
      "execution_count": null,
      "outputs": []
    },
    {
      "cell_type": "markdown",
      "source": [
        "Step 4: Full Integration of Agentic RAG:\n",
        "- We integrate the conversation analysis, document retrieval, and generation of responses into a complete pipeline."
      ],
      "metadata": {
        "id": "T8FVYDRM6dYG"
      }
    },
    {
      "cell_type": "code",
      "source": [
        "# Full Agentic RAG flow\n",
        "def agentic_rag_conversation(conversation, lead_indicators, knowledge_base):\n",
        "    # Step 1: Identify sales leads (same as previous code)\n",
        "    leads = identify_sales_leads(conversation, lead_indicators)\n",
        "\n",
        "    # Step 2: Retrieve relevant documents from knowledge base\n",
        "    retrieved_docs = retrieve_documents(conversation, knowledge_base)\n",
        "\n",
        "    # Step 3: Generate a response using the retrieved information\n",
        "    response = generate_followup(retrieved_docs)\n",
        "\n",
        "    # Output leads and the generated response\n",
        "    print(\"Identified Leads:\\n\")\n",
        "    for lead in leads:\n",
        "        print(f\"Lead Type: {lead['lead_type'].capitalize()}\")\n",
        "        print(f\"Speaker: {lead['speaker']}\")\n",
        "        print(f\"Text: {lead['text']}\\n\")\n",
        "\n",
        "    print(\"Generated Follow-up:\\n\")\n",
        "    print(response)\n",
        "\n",
        "# Call the full function\n",
        "agentic_rag_conversation(conversation_data[\"conversation\"], lead_indicators, knowledge_base)"
      ],
      "metadata": {
        "colab": {
          "base_uri": "https://localhost:8080/"
        },
        "id": "FzbQtCs26kkF",
        "outputId": "82f1ca4c-f378-4c1b-dbf9-3313be61536f"
      },
      "execution_count": null,
      "outputs": [
        {
          "output_type": "stream",
          "name": "stdout",
          "text": [
            "Identified Leads:\n",
            "\n",
            "Lead Type: Challenges\n",
            "Speaker: Principal Data Scientist\n",
            "Text: Hi there! I understand your team is focusing on improving route-to-market efficiency. Could you tell me more about the challenges you’re facing?\n",
            "\n",
            "Lead Type: Challenges\n",
            "Speaker: CPG Business Lead\n",
            "Text: Yes, we’ve been struggling with optimizing our store visits. Our sales team doesn't always know which stores need priority, which is leading to lost opportunities.\n",
            "\n",
            "Lead Type: Challenges\n",
            "Speaker: CPG Business Lead\n",
            "Text: Yes, we’ve been struggling with optimizing our store visits. Our sales team doesn't always know which stores need priority, which is leading to lost opportunities.\n",
            "\n",
            "Lead Type: Interest\n",
            "Speaker: Principal Data Scientist\n",
            "Text: That’s a common issue. We’ve seen AI models improve store visit efficiency by as much as 20%. Is that something your team has considered?\n",
            "\n",
            "Lead Type: Budget\n",
            "Speaker: CPG Business Lead\n",
            "Text: Yes, we've been thinking about AI. We just need to allocate the budget for next quarter, and we're exploring solutions.\n",
            "\n",
            "Lead Type: Budget\n",
            "Speaker: CPG Business Lead\n",
            "Text: Yes, we've been thinking about AI. We just need to allocate the budget for next quarter, and we're exploring solutions.\n",
            "\n",
            "Lead Type: Interest\n",
            "Speaker: CPG Business Lead\n",
            "Text: Yes, we've been thinking about AI. We just need to allocate the budget for next quarter, and we're exploring solutions.\n",
            "\n",
            "Lead Type: Interest\n",
            "Speaker: CPG Business Lead\n",
            "Text: Yes, we've been thinking about AI. We just need to allocate the budget for next quarter, and we're exploring solutions.\n",
            "\n",
            "Lead Type: Interest\n",
            "Speaker: CPG Business Lead\n",
            "Text: That sounds interesting. We’d definitely be open to seeing a proposal and a case study.\n",
            "\n",
            "Lead Type: Request\n",
            "Speaker: CPG Business Lead\n",
            "Text: That sounds interesting. We’d definitely be open to seeing a proposal and a case study.\n",
            "\n",
            "Lead Type: Request\n",
            "Speaker: CPG Business Lead\n",
            "Text: That sounds interesting. We’d definitely be open to seeing a proposal and a case study.\n",
            "\n",
            "Generated Follow-up:\n",
            "\n",
            "Based on your challenge with route-to-market, I recommend reviewing this: Case Study: AI Optimization of Route-to-Market Strategies increased ROI by 20%.. We could use a similar approach for your case.\n"
          ]
        }
      ]
    },
    {
      "cell_type": "markdown",
      "source": [
        "#Explanation:\n",
        "1. Lead Identification: The conversation is processed to identify sales leads based on predefined indicators, as we did previously.\n",
        "2. Retrieval from Knowledge Base: The system searches through a simulated knowledge base (e.g., past case studies) for relevant documents based on the conversation.\n",
        "3. Response Generation: Once the relevant documents are retrieved, the system generates a response that references the retrieved information, suggesting actions or solutions to the customer.\n",
        "\n"
      ],
      "metadata": {
        "id": "FgcDDoXb7AbG"
      }
    },
    {
      "cell_type": "markdown",
      "source": [
        "Identified Leads:\n",
        "\n",
        "Lead Type: Challenges\n",
        "Speaker: CPG Business Lead\n",
        "Text: Yes, we’ve been struggling with optimizing our store visits. Our sales team doesn't always know which stores need priority, which is leading to lost opportunities.\n",
        "\n",
        "Lead Type: Interest\n",
        "Speaker: CPG Business Lead\n",
        "Text: Yes, we've been thinking about AI. We just need to allocate the budget for next quarter, and we're exploring solutions.\n",
        "\n",
        "Lead Type: Budget\n",
        "Speaker: CPG Business Lead\n",
        "Text: Yes, we've been thinking about AI. We just need to allocate the budget for next quarter, and we're exploring solutions.\n",
        "\n",
        "Generated Follow-up:\n",
        "\n",
        "Based on your challenge with store visits, I recommend reviewing this: Case Study: Predictive models for optimizing store visits reduced inefficiencies by 15%. We could use a similar approach for your case.\n"
      ],
      "metadata": {
        "id": "4toYrMVf7i4f"
      }
    },
    {
      "cell_type": "markdown",
      "source": [
        "Refinements and Next Steps:\n",
        "Advanced Retrieval System: Instead of using a static dictionary, integrate with an ElasticSearch or Vector-based search to dynamically retrieve knowledge from a large corpus of documents.\n",
        "Enhanced Generation: Use more advanced models, such as GPT-4, to generate nuanced and context-aware responses based on retrieved documents.\n",
        "Multi-turn Conversations: Incorporate conversational memory, so the AI can handle follow-up queries and engage in multi-turn conversations over Teams.\n",
        "This Agentic RAG pipeline would allow the system to dynamically engage in conversations with knowledge-backed responses, which are key for identifying sales opportunities and nurturing leads."
      ],
      "metadata": {
        "id": "zNf7RTii7oKm"
      }
    },
    {
      "cell_type": "markdown",
      "source": [],
      "metadata": {
        "id": "Tz88QBLn7ptd"
      }
    }
  ]
}