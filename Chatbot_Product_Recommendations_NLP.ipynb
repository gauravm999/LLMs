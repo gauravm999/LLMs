{
  "cells": [
    {
      "cell_type": "markdown",
      "metadata": {
        "id": "view-in-github",
        "colab_type": "text"
      },
      "source": [
        "<a href=\"https://colab.research.google.com/github/gauravm999/LLMs/blob/main/Chatbot_Product_Recommendations_NLP.ipynb\" target=\"_parent\"><img src=\"https://colab.research.google.com/assets/colab-badge.svg\" alt=\"Open In Colab\"/></a>"
      ]
    },
    {
      "cell_type": "markdown",
      "source": [
        "##### Business Objective: Provide instant assistance to customers on product recommendations on a Customer Service Chatbot at eCommerce business"
      ],
      "metadata": {
        "id": "R4sQL9y2P2lc"
      }
    },
    {
      "cell_type": "markdown",
      "metadata": {
        "id": "eyyi7pF74uVE"
      },
      "source": [
        "# Generate Datasets"
      ]
    },
    {
      "cell_type": "code",
      "execution_count": null,
      "metadata": {
        "colab": {
          "base_uri": "https://localhost:8080/"
        },
        "id": "cwzSww2N3kUJ",
        "outputId": "b8e4a75c-78e1-433c-8d66-9f5861fa09e7"
      },
      "outputs": [
        {
          "output_type": "stream",
          "name": "stdout",
          "text": [
            "Customer Service Dataset:\n",
            "                                         query                  intent  \\\n",
            "0                    How can I track my order?          order_tracking   \n",
            "1              Do you have this item in stock?    product_availability   \n",
            "2                   Can I return this product?           return_policy   \n",
            "3                 Which products are trending?       trending_products   \n",
            "4  Can you recommend a laptop for programming?  product_recommendation   \n",
            "\n",
            "                                            response  \n",
            "0  To track your order, please visit our website ...  \n",
            "1               Yes, the item is currently in stock.  \n",
            "2  Our return policy allows returns within 30 day...  \n",
            "3  Our trending products include electronics, clo...  \n",
            "4  Sure! Based on your needs, we recommend the XY...  \n"
          ]
        }
      ],
      "source": [
        "import pandas as pd\n",
        "\n",
        "# Create a synthetic dataset for customer queries and interactions\n",
        "data = {\n",
        "    'query': ['How can I track my order?', 'Do you have this item in stock?', 'Can I return this product?',\n",
        "              'Which products are trending?', 'Can you recommend a laptop for programming?'],\n",
        "    'intent': ['order_tracking', 'product_availability', 'return_policy',\n",
        "               'trending_products', 'product_recommendation'],\n",
        "    'response': ['To track your order, please visit our website and go to the order tracking section.',\n",
        "                 'Yes, the item is currently in stock.',\n",
        "                 'Our return policy allows returns within 30 days of purchase.',\n",
        "                 'Our trending products include electronics, clothing, and accessories.',\n",
        "                 'Sure! Based on your needs, we recommend the XYZ laptop for programming.']\n",
        "}\n",
        "\n",
        "# Create a DataFrame from the data\n",
        "customer_data = pd.DataFrame(data)\n",
        "\n",
        "# Display the dataset\n",
        "print(\"Customer Service Dataset:\")\n",
        "print(customer_data)\n"
      ]
    },
    {
      "cell_type": "markdown",
      "metadata": {
        "id": "JYzavU7O4sVE"
      },
      "source": [
        "# NLP Model Building"
      ]
    },
    {
      "cell_type": "code",
      "execution_count": null,
      "metadata": {
        "colab": {
          "base_uri": "https://localhost:8080/"
        },
        "id": "N3int7Ai4SbC",
        "outputId": "dfb4d96d-db57-45cb-af56-fbd562bfe196"
      },
      "outputs": [
        {
          "output_type": "stream",
          "name": "stdout",
          "text": [
            "Predicted Intent for query 'Can you recommend a laptop for gaming?': product_recommendation\n"
          ]
        }
      ],
      "source": [
        "from sklearn.feature_extraction.text import TfidfVectorizer\n",
        "from sklearn.metrics.pairwise import cosine_similarity\n",
        "from sklearn.pipeline import Pipeline\n",
        "from sklearn.naive_bayes import MultinomialNB\n",
        "\n",
        "# Define a TF-IDF Vectorizer\n",
        "tfidf_vectorizer = TfidfVectorizer()\n",
        "\n",
        "# Define a Naive Bayes Classifier\n",
        "naive_bayes_classifier = MultinomialNB()\n",
        "\n",
        "# Create an NLP Pipeline\n",
        "nlp_pipeline = Pipeline([\n",
        "    ('tfidf_vectorizer', tfidf_vectorizer),\n",
        "    ('classifier', naive_bayes_classifier)\n",
        "])\n",
        "\n",
        "# Fit the pipeline on the dataset\n",
        "nlp_pipeline.fit(customer_data['query'], customer_data['intent'])\n",
        "\n",
        "# Function to predict intent based on query\n",
        "def predict_intent(query):\n",
        "    return nlp_pipeline.predict([query])[0]\n",
        "\n",
        "# Test the model\n",
        "query = \"Can you recommend a laptop for gaming?\"\n",
        "predicted_intent = predict_intent(query)\n",
        "print(f\"Predicted Intent for query '{query}': {predicted_intent}\")\n"
      ]
    },
    {
      "cell_type": "markdown",
      "metadata": {
        "id": "sgg9Iyc24ccs"
      },
      "source": [
        "# Show and Save the Results"
      ]
    },
    {
      "cell_type": "code",
      "execution_count": null,
      "metadata": {
        "colab": {
          "base_uri": "https://localhost:8080/"
        },
        "id": "T1TKc2144aJx",
        "outputId": "a75c59e4-0e4b-4c4a-f7cc-2dc239e0b732"
      },
      "outputs": [
        {
          "output_type": "stream",
          "name": "stdout",
          "text": [
            "\n",
            "Predicted Intents for Queries:\n",
            "Query: How do I track my order? | Predicted Intent: order_tracking\n",
            "Query: Is this item available for shipping? | Predicted Intent: product_availability\n",
            "Query: What is your refund policy? | Predicted Intent: order_tracking\n",
            "\n",
            "Results saved to 'nlp_results.csv' file.\n"
          ]
        }
      ],
      "source": [
        "# Predict intents for a list of queries\n",
        "queries = [\"How do I track my order?\", \"Is this item available for shipping?\", \"What is your refund policy?\"]\n",
        "predicted_intents = [predict_intent(q) for q in queries]\n",
        "\n",
        "# Display the results\n",
        "print(\"\\nPredicted Intents for Queries:\")\n",
        "for i, query in enumerate(queries):\n",
        "    print(f\"Query: {query} | Predicted Intent: {predicted_intents[i]}\")\n",
        "\n",
        "# Save the results to a CSV file\n",
        "results_df = pd.DataFrame({'Query': queries, 'Predicted Intent': predicted_intents})\n",
        "results_df.to_csv('nlp_results.csv', index=False)\n",
        "print(\"\\nResults saved to 'nlp_results.csv' file.\")\n"
      ]
    }
  ],
  "metadata": {
    "colab": {
      "provenance": [],
      "authorship_tag": "ABX9TyPaQWB2TVLWG+/28DUkDlkd",
      "include_colab_link": true
    },
    "kernelspec": {
      "display_name": "Python 3",
      "name": "python3"
    },
    "language_info": {
      "name": "python"
    }
  },
  "nbformat": 4,
  "nbformat_minor": 0
}